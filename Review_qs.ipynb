{
 "cells": [
  {
   "cell_type": "code",
   "execution_count": 2,
   "metadata": {
    "collapsed": true
   },
   "outputs": [],
   "source": [
    "import numpy as np, math as m\n",
    "np.set_printoptions(suppress=True, formatter={'float_kind':'{:0.3f}'.format})\n",
    "\n",
    "arr = np.array\n",
    "mag = np.linalg.norm\n",
    "\n",
    "def pr(*args):\n",
    "    if True:\n",
    "        print(str(arr(args)).replace(' ', ', ').replace('[', '').replace(']', ''))"
   ]
  },
  {
   "cell_type": "markdown",
   "metadata": {},
   "source": [
    "1. Calculate the orbital inclination required to place an earth satellite into a 500 km by 1000 km (altitude) sun-synchronous orbit [98.37 deg]. "
   ]
  },
  {
   "cell_type": "code",
   "execution_count": 3,
   "metadata": {},
   "outputs": [
    {
     "name": "stdout",
     "output_type": "stream",
     "text": [
      "98.372\n"
     ]
    }
   ],
   "source": [
    "R = 6378\n",
    "mu = 398600\n",
    "J2 = 0.00108263\n",
    "\n",
    "rp = 500 + R\n",
    "ra = 1000 + R\n",
    "\n",
    "e = (ra - rp) / (ra + rp)\n",
    "a = rp / (1 - e)\n",
    "om = 2 * m.pi / (365.26 * 3600 * 24)\n",
    "\n",
    "i = m.acos(om * (-3 / 2 * (m.sqrt(mu) * J2 * R ** 2) / ((1 - e ** 2) ** 2 * a ** (7 / 2))) ** -1)\n",
    "pr(m.degrees(i))"
   ]
  },
  {
   "cell_type": "markdown",
   "metadata": {},
   "source": [
    "2. A 500 kg spacecraft is in a 300 km circular earth orbit.  Calculate\n",
    "\n",
    "\ta) the total delta-v required for a Hohmann transfer to a 3000 km coplanar circular earth orbit [1.198 km/s]\n",
    "\n",
    "\tb) the transfer orbit time [59 min 39 s]"
   ]
  },
  {
   "cell_type": "code",
   "execution_count": 4,
   "metadata": {},
   "outputs": [
    {
     "name": "stdout",
     "output_type": "stream",
     "text": [
      "1.198\n",
      "59.654\n"
     ]
    }
   ],
   "source": [
    "r1 = 300 + R\n",
    "r2 = 3000 + R\n",
    "ms = 500\n",
    "\n",
    "v1a = m.sqrt(mu / r1)\n",
    "v1b = m.sqrt(2 * mu / (r1 + r2) * r2 / r1)\n",
    "dv1 = v1b - v1a\n",
    "\n",
    "v2b = m.sqrt(2 * mu / (r1 + r2) * r1 / r2)\n",
    "v2c = m.sqrt(mu / r2)\n",
    "dv2 = v2c - v2b\n",
    "\n",
    "dv = abs(dv1) + abs(dv2)\n",
    "pr(dv)\n",
    "\n",
    "e = (r2 - r1) / (r2 + r1)\n",
    "a = r1 / (1 - e)\n",
    "t = m.pi * m.sqrt(a ** 3 / mu)\n",
    "pr(t / 60)"
   ]
  },
  {
   "cell_type": "markdown",
   "metadata": {},
   "source": [
    "3. Two geocentric elliptical orbits have common apse lines and their perigees are on the same side of the earth.  The first orbit has a perigee radius of 7000 km and eccentricity of 0.3000, while the second orbit has a perigee radius of 32 000 km and eccentricity of 0.5000.\n",
    "\n",
    "\ta) Find the minimum total delta-v and time of flight for a transfer from the perigee of the inner orbit to the apogee of the outer orbit [2.388 km/s, 16.2 hr]\n",
    "\n",
    "\tb) Do part a) for a transfer from the apogee of the inner orbit to the perigee of the outer orbit [3.611 km/s, 4.66 hr]"
   ]
  },
  {
   "cell_type": "code",
   "execution_count": 5,
   "metadata": {},
   "outputs": [
    {
     "name": "stdout",
     "output_type": "stream",
     "text": [
      "2.389, 16.154\n",
      "3.611, 4.665\n"
     ]
    }
   ],
   "source": [
    "r1p = 7000\n",
    "e1 = .3\n",
    "a1 = r1p / (1 - e1)\n",
    "r1a = a1 * (1 + e1)\n",
    "\n",
    "r2p = 32000\n",
    "e2 = .5\n",
    "a2 = r2p / (1 - e2)\n",
    "r2a = a2 * (1 + e2)\n",
    "\n",
    "h1 = m.sqrt(2 * mu * (r1p * r1a) / (r1p + r1a))\n",
    "h2 = m.sqrt(2 * mu * (r2p * r2a) / (r2p + r2a))\n",
    "h3 = m.sqrt(2 * mu * (r1p * r2a) / (r1p + r2a))\n",
    "h4 = m.sqrt(2 * mu * (r1a * r2p) / (r1a + r2p))\n",
    "\n",
    "va1 = h1 / r1p\n",
    "va3 = h3 / r1p\n",
    "\n",
    "vd3 = h3 / r2a\n",
    "vd2 = h2 / r2a\n",
    "\n",
    "dv1 = (va3 - va1) + (vd2 - vd3)\n",
    "t1 = .5 * (2 * m.pi / m.sqrt(mu) * ((r1p + r2a) / 2) ** (3 / 2))\n",
    "pr(dv1, t1 / 3600)\n",
    "\n",
    "vb1 = h1 / r1a\n",
    "vb4 = h4 / r1a\n",
    "\n",
    "vc4 = h4 / r2p\n",
    "vc2 = h2 / r2p\n",
    "\n",
    "dv2 = (vb4 - vb1) + (vc2 - vc4)\n",
    "t2 = .5 * (2 * m.pi / m.sqrt(mu) * ((r1a + r2p) / 2) ** (3 / 2))\n",
    "pr(dv2, t2 / 3600)"
   ]
  },
  {
   "cell_type": "markdown",
   "metadata": {},
   "source": [
    "4. A satellite is in elliptical orbit 1.  Calculate the true anomaly ν, relative to the periapsis of orbit 1, of an impulsive maneuver that rotates the apse line at an angle η counterclockwise, but leaves the eccentricity and the angular momentum unchanged.  [ν = η/2]"
   ]
  },
  {
   "cell_type": "markdown",
   "metadata": {},
   "source": [
    "$$\\cos \\theta = \\cos (\\eta - \\theta)$$\n",
    "\n",
    "$$\\theta = \\eta - \\theta$$\n",
    "\n",
    "$$\\theta = \\frac{\\eta}{2}$$"
   ]
  },
  {
   "cell_type": "markdown",
   "metadata": {},
   "source": [
    "5. The space station and spacecraft A and B are all in the same earth orbit of 350 km altitude.  Spacecraft A is 600 km behind the space station and spacecraft B is 600 km ahead of the space station.  At the same instant, each spacecraft applies a delta-v so as arrive at the space station in one revolution of their phasing orbit.\n",
    "\n",
    "\ta) Calculate the times required for each spacecraft to reach the space station [ S/C A = 90.2 min, S/C B = 92.8 min]\n",
    "\n",
    "\tb) Calculate the total delta-v required for each spacecraft [S/C A = 73.9 m/s, S/C B =71.5 m/s]"
   ]
  },
  {
   "cell_type": "code",
   "execution_count": 6,
   "metadata": {},
   "outputs": [
    {
     "name": "stdout",
     "output_type": "stream",
     "text": [
      "90.236, 92.835\n",
      "73.881, 71.813\n"
     ]
    }
   ],
   "source": [
    "r = 350 + R\n",
    "\n",
    "P = 2 * m.pi * m.sqrt(r ** 3 / mu)\n",
    "\n",
    "phi = 600 / (2 * m.pi * r)\n",
    "ta = P * (2 * m.pi * r - 600) / (2 * m.pi * r)\n",
    "tb = P * (2 * m.pi * r + 600) / (2 * m.pi * r)\n",
    "pr(ta / 60, tb / 60)\n",
    "\n",
    "vc = m.sqrt(mu / r)\n",
    "\n",
    "aa = ((2 * m.pi / ta) ** -2 * mu) ** (1 / 3)\n",
    "va = m.sqrt(mu * (2 / r - 1 / aa))\n",
    "\n",
    "ab = ((2 * m.pi / tb) ** -2 * mu) ** (1 / 3)\n",
    "vb = m.sqrt(mu * (2 / r - 1 / ab))\n",
    "\n",
    "dva = abs(2 * (va - vc))\n",
    "dvb = abs(2 * (vb - vc))\n",
    "pr(dva * 1000, dvb * 1000)"
   ]
  },
  {
   "cell_type": "markdown",
   "metadata": {},
   "source": [
    "6. An earth satellite is in an elliptical orbit with an argument of perigee of 0 degrees, an eccentricity of 0.3000, and a specific angular momentum of 60 000 km2/s.  Find the delta-v required for a 90 degree change in inclination at apogee, with no change in speed (magnitude of velocity).  [6.58 km/s]"
   ]
  },
  {
   "cell_type": "code",
   "execution_count": 7,
   "metadata": {},
   "outputs": [
    {
     "name": "stdout",
     "output_type": "stream",
     "text": [
      "6.577\n"
     ]
    }
   ],
   "source": [
    "h = 60e3\n",
    "e = .3\n",
    "i = m.radians(90)\n",
    "\n",
    "p = h ** 2 / mu\n",
    "ra = p / (1 - e)\n",
    "va = h / ra\n",
    "\n",
    "dv = 2 * va * m.sin(i / 2)\n",
    "pr(dv)"
   ]
  },
  {
   "cell_type": "markdown",
   "metadata": {},
   "source": [
    "7. Calculate the total delta-v requirement for a Hohmann transfer from Earth to Mercury, assuming a 150 km circular parking orbit at Earth and a 150 km circular parking orbit at Mercury.  (Assume planets have circular coplanar orbits). [15.0 km/s]\n",
    "\n",
    "\tμsun = 132.7x109 km3/s2 , μearth = 398 600 km3/s2 , μmercury = 22 930 km3/s2\n",
    "\n",
    "\tRearth 149.6x106 km, Rmercury 57.91x106 km ,  rearth 6378 km, rmercury 2440 km"
   ]
  },
  {
   "cell_type": "code",
   "execution_count": 8,
   "metadata": {},
   "outputs": [
    {
     "name": "stdout",
     "output_type": "stream",
     "text": [
      "13.076\n"
     ]
    }
   ],
   "source": [
    "muU = 132.7e9\n",
    "muE = 398600\n",
    "RE = 149.6e6\n",
    "re = 6378\n",
    "muM = 22930\n",
    "RM = 57.91e6\n",
    "rm = 2440\n",
    "\n",
    "r1 = re + 150\n",
    "r2 = rm + 150\n",
    "\n",
    "vd = m.sqrt(muU * (2 / RE - 2 / (RE + RM)))\n",
    "ve = m.sqrt(muU / RE)\n",
    "vinf1 = ve - vd\n",
    "\n",
    "vc1 = m.sqrt(muE / r1)\n",
    "dv1 = vc1 * (m.sqrt(2 + (vinf1 / vc1) ** 2) - 1)\n",
    "\n",
    "va = m.sqrt(muU * (2 / RM - 2 / (RE + RM)))\n",
    "vm = m.sqrt(muU / RM)\n",
    "vinf2 = va - vm\n",
    "\n",
    "vc2 = m.sqrt(muM / r2)\n",
    "dv2 = vc2 * (1 - m.sqrt(2 + (vinf2 / vc2) ** 2))\n",
    "\n",
    "dv = abs(dv1) + abs(dv2)\n",
    "pr(dv)"
   ]
  },
  {
   "cell_type": "markdown",
   "metadata": {},
   "source": [
    "8. Calculate the sphere of influence for Saturn.  [5.479x107 km]\n",
    "\n",
    "\tRsaturn 1433x106 km ,  Msun = 1.989x1030 kg, Msaturn = 5.685x1026 kg"
   ]
  },
  {
   "cell_type": "code",
   "execution_count": 9,
   "metadata": {},
   "outputs": [
    {
     "name": "stdout",
     "output_type": "stream",
     "text": [
      "54787876.075\n"
     ]
    }
   ],
   "source": [
    "RS = 1433e6\n",
    "mS = 5.685e26\n",
    "mU = 1.989e30\n",
    "\n",
    "rsoi = RS * (mS / mU) ** (2 / 5)\n",
    "pr(rsoi)"
   ]
  },
  {
   "cell_type": "markdown",
   "metadata": {},
   "source": [
    "9. Calculate the propellant mass required to launch a 2000 kg spacecraft from a 180 km circular orbit on a Hohmann transfer trajectory to Saturn.  Calculate the time required for the mission.  Assume the propulsion system has a specific impulse of 300 s.  [21 810 kg, 6.03 yr.] "
   ]
  },
  {
   "cell_type": "code",
   "execution_count": 10,
   "metadata": {},
   "outputs": [
    {
     "name": "stdout",
     "output_type": "stream",
     "text": [
      "7.289469656120443\n",
      "7.289469656120443 0.00981 300\n",
      "21808.227\n",
      "6.083\n"
     ]
    }
   ],
   "source": [
    "mf = 2000\n",
    "g0 = 9.81e-3\n",
    "Isp = 300\n",
    "\n",
    "vd = m.sqrt(muU * (2 / RE - 2 / (RE + RS)))\n",
    "ve = m.sqrt(muU / RE)\n",
    "vinf = ve - vd\n",
    "\n",
    "vc = m.sqrt(muE / (re + 180))\n",
    "dv = vc * (m.sqrt(2 + (vinf / vc) ** 2) - 1)\n",
    "print(dv)\n",
    "\n",
    "mp = mf * (m.exp(dv / (g0 * Isp)) - 1)\n",
    "print(dv, g0, Isp)\n",
    "pr(mp)\n",
    "\n",
    "T = 2 * m.pi / m.sqrt(muU) * ((RE + RS) / 2) ** (3 / 2)\n",
    "tf = T / 2\n",
    "pr(tf / (3600 * 24 * 365.26))"
   ]
  },
  {
   "cell_type": "markdown",
   "metadata": {},
   "source": [
    "10. The coordinates of a spacecraft in the rotating Earth-Moon system coordinate frame are [-5500 5500]T.  The velocity of the spacecraft is 11.83 km/s.  Determine the Jacobi constant for the spacecraft and determine whether it can escape the Earth-Moon system.  [-1.67.  No because C < CL2]"
   ]
  },
  {
   "cell_type": "code",
   "execution_count": 15,
   "metadata": {},
   "outputs": [
    {
     "name": "stdout",
     "output_type": "stream",
     "text": [
      "11.8344 2.665679032354256e-06 -5500 5500\n",
      "-1.669\n"
     ]
    }
   ],
   "source": [
    "v = 11.8344\n",
    "x = -5500\n",
    "y = 5500\n",
    "\n",
    "G = 6.67408e-20\n",
    "M1 = 5.974e24\n",
    "M2 = 7.348e22\n",
    "r12 = 3.844e5\n",
    "\n",
    "mu1 = G * M1\n",
    "mu2 = G * M2\n",
    "mu0 = G * (M1 + M2)\n",
    "om = m.sqrt(mu0 / r12 ** 3)\n",
    "\n",
    "x1 = -M2 / (M1 + M2) * r12\n",
    "x2 = M1 / (M1 + M2) * r12\n",
    "\n",
    "r1 = m.sqrt((x - x1) ** 2 + y ** 2)\n",
    "r2 = m.sqrt((x - x2) ** 2 + y ** 2)\n",
    "\n",
    "print(v, om, x, y)\n",
    "\n",
    "C = .5 * v ** 2 - .5 * om ** 2 * (x ** 2 + y ** 2) - mu1 / r1 - mu2 / r2\n",
    "\n",
    "pr(C)"
   ]
  },
  {
   "cell_type": "code",
   "execution_count": null,
   "metadata": {
    "collapsed": true
   },
   "outputs": [],
   "source": []
  }
 ],
 "metadata": {
  "kernelspec": {
   "display_name": "Python 3",
   "language": "python",
   "name": "python3"
  },
  "language_info": {
   "codemirror_mode": {
    "name": "ipython",
    "version": 3
   },
   "file_extension": ".py",
   "mimetype": "text/x-python",
   "name": "python",
   "nbconvert_exporter": "python",
   "pygments_lexer": "ipython3",
   "version": "3.6.3"
  }
 },
 "nbformat": 4,
 "nbformat_minor": 2
}
